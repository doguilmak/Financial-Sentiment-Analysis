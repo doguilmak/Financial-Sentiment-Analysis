{
 "cells": [
  {
   "cell_type": "markdown",
   "id": "fe4661d3",
   "metadata": {},
   "source": [
    "\n",
    "# Financial Sentiment Analysis\n",
    "\n",
    "<img src=\"https://png.pngtree.com/background/20210711/original/pngtree-business-finance-hd-background-picture-image_1113083.jpg\" alt=\"Finance Picture\">\n",
    "\n",
    "\n",
    "## Data\n",
    "The following data is intended for advancing financial sentiment analysis research. It's two datasets (FiQA, Financial PhraseBank) combined into one easy-to-use CSV file. It provides financial sentences with sentiment labels.\n",
    "\n",
    "## Citations\n",
    "Malo, Pekka, et al. \"Good debt or bad debt: Detecting semantic orientations in economic texts.\" Journal of the Association for Information Science and Technology 65.4 (2014): 782-796.\n",
    "\n",
    "## Dataset link:\n",
    "\n",
    "<ul>\n",
    "    <li><a href=\"https://www.kaggle.com/sbhatti/financial-sentiment-analysis\" target=\"_blanck\">https://www.kaggle.com/sbhatti/financial-sentiment-analysis</a></li>\n",
    "</ul>"
   ]
  },
  {
   "cell_type": "markdown",
   "id": "e85fca47",
   "metadata": {},
   "source": [
    "___"
   ]
  },
  {
   "cell_type": "markdown",
   "id": "920ceccd",
   "metadata": {},
   "source": [
    "## Building Passive Aggressive Classifier to Prediction"
   ]
  },
  {
   "cell_type": "markdown",
   "id": "75cb8c2f",
   "metadata": {},
   "source": [
    "### Importing libraries"
   ]
  },
  {
   "cell_type": "code",
   "execution_count": 1,
   "id": "c0a2967c",
   "metadata": {},
   "outputs": [],
   "source": [
    "import warnings\n",
    "warnings.filterwarnings(\"ignore\")\n",
    "import pandas as pd\n",
    "import seaborn as sns\n",
    "import matplotlib.pyplot as plt \n",
    "from sklearn.model_selection import train_test_split\n",
    "from sklearn.feature_extraction.text import TfidfVectorizer\n",
    "from sklearn.linear_model import PassiveAggressiveClassifier\n",
    "from sklearn.metrics import accuracy_score, confusion_matrix"
   ]
  },
  {
   "cell_type": "markdown",
   "id": "e896fc82",
   "metadata": {},
   "source": [
    "### Importing the data"
   ]
  },
  {
   "cell_type": "code",
   "execution_count": 2,
   "id": "971412e7",
   "metadata": {},
   "outputs": [],
   "source": [
    "df = pd.read_csv('data.csv')\n",
    "sentiment = df['Sentiment']"
   ]
  },
  {
   "cell_type": "code",
   "execution_count": 3,
   "id": "bb1bba23",
   "metadata": {},
   "outputs": [
    {
     "data": {
      "text/html": [
       "<div>\n",
       "<style scoped>\n",
       "    .dataframe tbody tr th:only-of-type {\n",
       "        vertical-align: middle;\n",
       "    }\n",
       "\n",
       "    .dataframe tbody tr th {\n",
       "        vertical-align: top;\n",
       "    }\n",
       "\n",
       "    .dataframe thead th {\n",
       "        text-align: right;\n",
       "    }\n",
       "</style>\n",
       "<table border=\"1\" class=\"dataframe\">\n",
       "  <thead>\n",
       "    <tr style=\"text-align: right;\">\n",
       "      <th></th>\n",
       "      <th>Unnamed: 0</th>\n",
       "      <th>Sentence</th>\n",
       "      <th>Sentiment</th>\n",
       "    </tr>\n",
       "  </thead>\n",
       "  <tbody>\n",
       "    <tr>\n",
       "      <th>0</th>\n",
       "      <td>0</td>\n",
       "      <td>The GeoSolutions technology will leverage Bene...</td>\n",
       "      <td>positive</td>\n",
       "    </tr>\n",
       "    <tr>\n",
       "      <th>1</th>\n",
       "      <td>1</td>\n",
       "      <td>$ESI on lows, down $1.50 to $2.50 BK a real po...</td>\n",
       "      <td>negative</td>\n",
       "    </tr>\n",
       "    <tr>\n",
       "      <th>2</th>\n",
       "      <td>2</td>\n",
       "      <td>For the last quarter of 2010 , Componenta 's n...</td>\n",
       "      <td>positive</td>\n",
       "    </tr>\n",
       "    <tr>\n",
       "      <th>3</th>\n",
       "      <td>3</td>\n",
       "      <td>According to the Finnish-Russian Chamber of Co...</td>\n",
       "      <td>neutral</td>\n",
       "    </tr>\n",
       "    <tr>\n",
       "      <th>4</th>\n",
       "      <td>4</td>\n",
       "      <td>The Swedish buyout firm has sold its remaining...</td>\n",
       "      <td>neutral</td>\n",
       "    </tr>\n",
       "  </tbody>\n",
       "</table>\n",
       "</div>"
      ],
      "text/plain": [
       "   Unnamed: 0                                           Sentence Sentiment\n",
       "0           0  The GeoSolutions technology will leverage Bene...  positive\n",
       "1           1  $ESI on lows, down $1.50 to $2.50 BK a real po...  negative\n",
       "2           2  For the last quarter of 2010 , Componenta 's n...  positive\n",
       "3           3  According to the Finnish-Russian Chamber of Co...   neutral\n",
       "4           4  The Swedish buyout firm has sold its remaining...   neutral"
      ]
     },
     "execution_count": 3,
     "metadata": {},
     "output_type": "execute_result"
    }
   ],
   "source": [
    "df.head()"
   ]
  },
  {
   "cell_type": "code",
   "execution_count": 4,
   "id": "db0e90d5",
   "metadata": {},
   "outputs": [
    {
     "data": {
      "text/plain": [
       "0    positive\n",
       "1    negative\n",
       "2    positive\n",
       "3     neutral\n",
       "4     neutral\n",
       "Name: Sentiment, dtype: object"
      ]
     },
     "execution_count": 4,
     "metadata": {},
     "output_type": "execute_result"
    }
   ],
   "source": [
    "sentiment.head()"
   ]
  },
  {
   "cell_type": "markdown",
   "id": "ad708f08",
   "metadata": {},
   "source": [
    "### Data Preprocessing"
   ]
  },
  {
   "cell_type": "code",
   "execution_count": 5,
   "id": "f8d09e74",
   "metadata": {},
   "outputs": [
    {
     "data": {
      "text/plain": [
       "neutral     3130\n",
       "positive    1852\n",
       "negative     860\n",
       "Name: Sentiment, dtype: int64"
      ]
     },
     "execution_count": 5,
     "metadata": {},
     "output_type": "execute_result"
    }
   ],
   "source": [
    "sentiment.value_counts()"
   ]
  },
  {
   "cell_type": "code",
   "execution_count": 6,
   "id": "f8c772e2",
   "metadata": {},
   "outputs": [
    {
     "data": {
      "text/plain": [
       "(5842, 3)"
      ]
     },
     "execution_count": 6,
     "metadata": {},
     "output_type": "execute_result"
    }
   ],
   "source": [
    "df.shape"
   ]
  },
  {
   "cell_type": "code",
   "execution_count": 7,
   "id": "aa6e74b9",
   "metadata": {},
   "outputs": [
    {
     "name": "stdout",
     "output_type": "stream",
     "text": [
      "Number of NaN values: 0.\n"
     ]
    }
   ],
   "source": [
    "print(\"Number of NaN values: {}.\".format(df.isnull().sum().sum()))"
   ]
  },
  {
   "cell_type": "code",
   "execution_count": 8,
   "id": "797243f0",
   "metadata": {},
   "outputs": [
    {
     "name": "stdout",
     "output_type": "stream",
     "text": [
      "Number of duplicated rows: 0.\n"
     ]
    }
   ],
   "source": [
    "print(\"Number of duplicated rows: {}.\".format(df.duplicated().sum()))"
   ]
  },
  {
   "cell_type": "code",
   "execution_count": 9,
   "id": "8d8b5245",
   "metadata": {},
   "outputs": [
    {
     "name": "stdout",
     "output_type": "stream",
     "text": [
      "<class 'pandas.core.frame.DataFrame'>\n",
      "RangeIndex: 5842 entries, 0 to 5841\n",
      "Data columns (total 3 columns):\n",
      " #   Column      Non-Null Count  Dtype \n",
      "---  ------      --------------  ----- \n",
      " 0   Unnamed: 0  5842 non-null   int64 \n",
      " 1   Sentence    5842 non-null   object\n",
      " 2   Sentiment   5842 non-null   object\n",
      "dtypes: int64(1), object(2)\n",
      "memory usage: 137.0+ KB\n"
     ]
    }
   ],
   "source": [
    "df.info()"
   ]
  },
  {
   "cell_type": "code",
   "execution_count": 10,
   "id": "0ce0a1d9",
   "metadata": {},
   "outputs": [
    {
     "name": "stdout",
     "output_type": "stream",
     "text": [
      "Number of NaN numbers: \n",
      "Unnamed: 0    0\n",
      "Sentence      0\n",
      "Sentiment     0\n",
      "dtype: int64\n"
     ]
    }
   ],
   "source": [
    "print('Number of NaN numbers: \\n{}'.format(df.isnull().sum()))"
   ]
  },
  {
   "cell_type": "code",
   "execution_count": 11,
   "id": "f1596710",
   "metadata": {},
   "outputs": [
    {
     "data": {
      "image/png": "[encoded data removed]",
      "text/plain": [
       "<Figure size 1080x864 with 1 Axes>"
      ]
     },
     "metadata": {
      "needs_background": "light"
     },
     "output_type": "display_data"
    }
   ],
   "source": [
    "plt.figure(figsize = (15, 12))\n",
    "sns.set_style('whitegrid')    \n",
    "sns.histplot(data=sentiment)\n",
    "plt.title(\"Financial Sentiment Analysis on Histogram\")\n",
    "plt.xlabel(\"Sentiment Types\")\n",
    "plt.ylabel(\"Sentiments in Total\")\n",
    "plt.show()"
   ]
  },
  {
   "cell_type": "markdown",
   "id": "992236b6",
   "metadata": {},
   "source": [
    "### Train - Test Split"
   ]
  },
  {
   "cell_type": "code",
   "execution_count": 12,
   "id": "083f17ef",
   "metadata": {},
   "outputs": [],
   "source": [
    "x_train, x_test, y_train, y_test=train_test_split(df['Sentence'], sentiment, test_size=0.2, random_state=7)"
   ]
  },
  {
   "cell_type": "markdown",
   "id": "0a1a1cd9",
   "metadata": {},
   "source": [
    "### Initialize a TfidfVectorizer"
   ]
  },
  {
   "cell_type": "code",
   "execution_count": 13,
   "id": "d52fc96a",
   "metadata": {},
   "outputs": [],
   "source": [
    "tfidf_vectorizer = TfidfVectorizer(stop_words='english', max_df=0.7)"
   ]
  },
  {
   "cell_type": "markdown",
   "id": "31ae6f2c",
   "metadata": {},
   "source": [
    "### Fit and transform train set, transform test set"
   ]
  },
  {
   "cell_type": "code",
   "execution_count": 14,
   "id": "e61fdcad",
   "metadata": {},
   "outputs": [],
   "source": [
    "tfidf_train = tfidf_vectorizer.fit_transform(x_train) \n",
    "tfidf_test = tfidf_vectorizer.transform(x_test)"
   ]
  },
  {
   "cell_type": "markdown",
   "id": "6e03b101",
   "metadata": {},
   "source": [
    "### Initialize a PassiveAggressiveClassifier\n",
    "\n",
    "The passive-aggressive algorithms are a family of algorithms for large-scale learning. They are similar to the Perceptron in that they do not require a learning rate."
   ]
  },
  {
   "cell_type": "code",
   "execution_count": 15,
   "id": "a8a6ee79",
   "metadata": {},
   "outputs": [
    {
     "data": {
      "text/plain": [
       "PassiveAggressiveClassifier(max_iter=50)"
      ]
     },
     "execution_count": 15,
     "metadata": {},
     "output_type": "execute_result"
    }
   ],
   "source": [
    "pac = PassiveAggressiveClassifier(max_iter=50)\n",
    "pac.fit(tfidf_train, y_train)"
   ]
  },
  {
   "cell_type": "markdown",
   "id": "6eba4b0d",
   "metadata": {},
   "source": [
    "### Predict on the test set and calculate accuracy"
   ]
  },
  {
   "cell_type": "code",
   "execution_count": 16,
   "id": "099f96db",
   "metadata": {},
   "outputs": [
    {
     "name": "stdout",
     "output_type": "stream",
     "text": [
      "Accuracy score: 0.6201881950384944\n"
     ]
    }
   ],
   "source": [
    "y_pred = pac.predict(tfidf_test)\n",
    "score = accuracy_score(y_test, y_pred)\n",
    "print(f'Accuracy score: {score}')"
   ]
  },
  {
   "cell_type": "markdown",
   "id": "8104a75f",
   "metadata": {},
   "source": [
    "### Confusion matrix of model"
   ]
  },
  {
   "cell_type": "code",
   "execution_count": 17,
   "id": "5b4a3d37",
   "metadata": {},
   "outputs": [
    {
     "name": "stdout",
     "output_type": "stream",
     "text": [
      "\n",
      "Confusion Matrix (PassiveAggressiveClassifier):\n",
      " [[249  22  86]\n",
      " [ 38  37 105]\n",
      " [ 80 113 439]]\n"
     ]
    }
   ],
   "source": [
    "cm = confusion_matrix(y_test, y_pred, labels=['positive', 'negative', 'neutral'])\n",
    "print(\"\\nConfusion Matrix (PassiveAggressiveClassifier):\\n\", cm)"
   ]
  },
  {
   "cell_type": "markdown",
   "id": "793c513a",
   "metadata": {},
   "source": [
    "### Prediction"
   ]
  },
  {
   "cell_type": "code",
   "execution_count": 18,
   "id": "67d23ec8",
   "metadata": {},
   "outputs": [
    {
     "name": "stdout",
     "output_type": "stream",
     "text": [
      "Model predicted your sentiment as negative.\n"
     ]
    }
   ],
   "source": [
    "pred = [\"Viking Line has canceled some services.\"]\n",
    "my_pred = tfidf_vectorizer.transform(pred)\n",
    "\n",
    "my_predClass = pac.predict(my_pred)\n",
    "print(f\"Model predicted your sentiment as {my_predClass[0]}.\")"
   ]
  },
  {
   "cell_type": "markdown",
   "id": "51a13e95",
   "metadata": {},
   "source": [
    "### Save PAC model via Pickle"
   ]
  },
  {
   "cell_type": "code",
   "execution_count": 19,
   "id": "1c3ff090",
   "metadata": {},
   "outputs": [],
   "source": [
    "import pickle\n",
    "\n",
    "pickle_file = open('pac.pkl', 'ab')\n",
    "pickle.dump(pac, pickle_file)                     \n",
    "pickle_file.close()"
   ]
  },
  {
   "cell_type": "markdown",
   "id": "ea5d3183",
   "metadata": {},
   "source": [
    "___"
   ]
  },
  {
   "cell_type": "markdown",
   "id": "21083c2a",
   "metadata": {},
   "source": [
    "## Building XGBoost Classifier to Prediction"
   ]
  },
  {
   "cell_type": "markdown",
   "id": "f006063d",
   "metadata": {},
   "source": [
    "### Importing XGBoost Library"
   ]
  },
  {
   "cell_type": "code",
   "execution_count": 20,
   "id": "1b0678a6",
   "metadata": {},
   "outputs": [],
   "source": [
    "from xgboost import XGBClassifier"
   ]
  },
  {
   "cell_type": "markdown",
   "id": "ef238c63",
   "metadata": {},
   "source": [
    "### Fit and train the model"
   ]
  },
  {
   "cell_type": "code",
   "execution_count": 21,
   "id": "e0a8534f",
   "metadata": {},
   "outputs": [
    {
     "name": "stdout",
     "output_type": "stream",
     "text": [
      "[02:17:47] WARNING: C:/Users/Administrator/workspace/xgboost-win64_release_1.5.1/src/learner.cc:1115: Starting in XGBoost 1.3.0, the default evaluation metric used with the objective 'multi:softprob' was changed from 'merror' to 'mlogloss'. Explicitly set eval_metric if you'd like to restore the old behavior.\n"
     ]
    },
    {
     "data": {
      "text/plain": [
       "XGBClassifier(base_score=0.5, booster='gbtree', colsample_bylevel=1,\n",
       "              colsample_bynode=1, colsample_bytree=1, enable_categorical=False,\n",
       "              gamma=0, gpu_id=-1, importance_type=None,\n",
       "              interaction_constraints='', learning_rate=0.300000012,\n",
       "              max_delta_step=0, max_depth=6, min_child_weight=1, missing=nan,\n",
       "              monotone_constraints='()', n_estimators=100, n_jobs=8,\n",
       "              num_parallel_tree=1, objective='multi:softprob', predictor='auto',\n",
       "              random_state=0, reg_alpha=0, reg_lambda=1, scale_pos_weight=None,\n",
       "              subsample=1, tree_method='exact', validate_parameters=1,\n",
       "              verbosity=None)"
      ]
     },
     "execution_count": 21,
     "metadata": {},
     "output_type": "execute_result"
    }
   ],
   "source": [
    "classifier= XGBClassifier()\n",
    "classifier.fit(tfidf_train, y_train)"
   ]
  },
  {
   "cell_type": "code",
   "execution_count": 22,
   "id": "25c5c6f9",
   "metadata": {},
   "outputs": [],
   "source": [
    "y_pred = classifier.predict(tfidf_test)"
   ]
  },
  {
   "cell_type": "markdown",
   "id": "7a94aaf2",
   "metadata": {},
   "source": [
    "### Building confusion matrix"
   ]
  },
  {
   "cell_type": "code",
   "execution_count": 23,
   "id": "b8c6b254",
   "metadata": {},
   "outputs": [
    {
     "name": "stdout",
     "output_type": "stream",
     "text": [
      "\n",
      "Confusion Matrix(XGBoost):\n",
      " [[ 26  58  13]\n",
      " [125 544 131]\n",
      " [ 29  30 213]]\n"
     ]
    }
   ],
   "source": [
    "cm2 = confusion_matrix(y_pred, y_test)  #  Comparing results\n",
    "print(\"\\nConfusion Matrix(XGBoost):\\n\", cm2)"
   ]
  },
  {
   "cell_type": "code",
   "execution_count": 24,
   "id": "41083e13",
   "metadata": {},
   "outputs": [
    {
     "name": "stdout",
     "output_type": "stream",
     "text": [
      "\n",
      "Accuracy score (XGBoost): 0.669803250641574\n"
     ]
    }
   ],
   "source": [
    "print(f\"\\nAccuracy score (XGBoost): {accuracy_score(y_test, y_pred)}\")"
   ]
  },
  {
   "cell_type": "markdown",
   "id": "bf242ec0",
   "metadata": {},
   "source": [
    "### Prediction"
   ]
  },
  {
   "cell_type": "code",
   "execution_count": 25,
   "id": "8baf0c8a",
   "metadata": {},
   "outputs": [
    {
     "name": "stdout",
     "output_type": "stream",
     "text": [
      "Model predicted your sentiment as neutral.\n"
     ]
    }
   ],
   "source": [
    "xgb_sentiment = [\"Viking Line has canceled some services.\"]\n",
    "xgb_sentiment_trans = tfidf_vectorizer.transform(xgb_sentiment)\n",
    "xgb_pred = classifier.predict(xgb_sentiment_trans)\n",
    "\n",
    "print(f\"Model predicted your sentiment as {xgb_pred[0]}.\")"
   ]
  },
  {
   "cell_type": "markdown",
   "id": "d100a789",
   "metadata": {},
   "source": [
    "### Save XGBoost model via Pickle"
   ]
  },
  {
   "cell_type": "code",
   "execution_count": 26,
   "id": "04f7c770",
   "metadata": {},
   "outputs": [],
   "source": [
    "import pickle\n",
    "\n",
    "pickle_file = open('xgboost.pkl', 'ab')\n",
    "pickle.dump(classifier, pickle_file)                     \n",
    "pickle_file.close()"
   ]
  },
  {
   "cell_type": "markdown",
   "id": "3ca19f8a",
   "metadata": {},
   "source": [
    "___"
   ]
  },
  {
   "cell_type": "markdown",
   "id": "1b8134b7",
   "metadata": {},
   "source": [
    "## Logistic Regression to Predict"
   ]
  },
  {
   "cell_type": "markdown",
   "id": "4b802d64",
   "metadata": {},
   "source": [
    "### Importing library"
   ]
  },
  {
   "cell_type": "code",
   "execution_count": 27,
   "id": "d8cc2dab",
   "metadata": {},
   "outputs": [],
   "source": [
    "from sklearn.linear_model import LogisticRegression"
   ]
  },
  {
   "cell_type": "markdown",
   "id": "8a736270",
   "metadata": {},
   "source": [
    "### Fit logistic regression"
   ]
  },
  {
   "cell_type": "code",
   "execution_count": 28,
   "id": "949492da",
   "metadata": {},
   "outputs": [
    {
     "data": {
      "text/plain": [
       "LogisticRegression(random_state=0)"
      ]
     },
     "execution_count": 28,
     "metadata": {},
     "output_type": "execute_result"
    }
   ],
   "source": [
    "logr = LogisticRegression(random_state=0)\n",
    "logr.fit(tfidf_train, y_train)"
   ]
  },
  {
   "cell_type": "markdown",
   "id": "f2313ea8",
   "metadata": {},
   "source": [
    "### Predict"
   ]
  },
  {
   "cell_type": "code",
   "execution_count": 29,
   "id": "a8031b97",
   "metadata": {},
   "outputs": [
    {
     "data": {
      "text/plain": [
       "array(['neutral', 'neutral', 'positive', ..., 'neutral', 'negative',\n",
       "       'positive'], dtype=object)"
      ]
     },
     "execution_count": 29,
     "metadata": {},
     "output_type": "execute_result"
    }
   ],
   "source": [
    "y_pred = logr.predict(tfidf_train)\n",
    "y_pred"
   ]
  },
  {
   "cell_type": "code",
   "execution_count": 30,
   "id": "5512b01b",
   "metadata": {},
   "outputs": [
    {
     "name": "stdout",
     "output_type": "stream",
     "text": [
      "Model predicted your sentiment as neutral.\n"
     ]
    }
   ],
   "source": [
    "pred_logr = [\"Viking Line has canceled some services.\"]\n",
    "my_pred_logr = tfidf_vectorizer.transform(pred_logr)\n",
    "\n",
    "my_predClass_logr = logr.predict(my_pred_logr)\n",
    "print(f\"Model predicted your sentiment as {my_predClass_logr[0]}.\")"
   ]
  },
  {
   "cell_type": "markdown",
   "id": "a0e1269c",
   "metadata": {},
   "source": [
    "### Save XGBoost Model model via Pickle"
   ]
  },
  {
   "cell_type": "code",
   "execution_count": 31,
   "id": "18cc0985",
   "metadata": {},
   "outputs": [],
   "source": [
    "pickle_file = open('logr.pkl', 'ab')\n",
    "pickle.dump(logr, pickle_file)                     \n",
    "pickle_file.close()"
   ]
  },
  {
   "cell_type": "code",
   "execution_count": null,
   "id": "44db53a6",
   "metadata": {},
   "outputs": [],
   "source": []
  }
 ],
 "metadata": {
  "kernelspec": {
   "display_name": "Python 3 (ipykernel)",
   "language": "python",
   "name": "python3"
  },
  "language_info": {
   "codemirror_mode": {
    "name": "ipython",
    "version": 3
   },
   "file_extension": ".py",
   "mimetype": "text/x-python",
   "name": "python",
   "nbconvert_exporter": "python",
   "pygments_lexer": "ipython3",
   "version": "3.9.7"
  }
 },
 "nbformat": 4,
 "nbformat_minor": 5
}
